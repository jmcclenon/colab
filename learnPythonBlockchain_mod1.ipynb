{
  "nbformat": 4,
  "nbformat_minor": 0,
  "metadata": {
    "colab": {
      "name": "learnPythonBlockchain-mod1.ipynb",
      "version": "0.3.2",
      "provenance": [],
      "collapsed_sections": [],
      "include_colab_link": true
    },
    "kernelspec": {
      "display_name": "Python 3",
      "language": "python",
      "name": "python3"
    }
  },
  "cells": [
    {
      "cell_type": "markdown",
      "metadata": {
        "id": "view-in-github",
        "colab_type": "text"
      },
      "source": [
        "<a href=\"https://colab.research.google.com/github/jmcclenon/colab/blob/master/learnPythonBlockchain_mod1.ipynb\" target=\"_parent\"><img src=\"https://colab.research.google.com/assets/colab-badge.svg\" alt=\"Open In Colab\"/></a>"
      ]
    },
    {
      "metadata": {
        "id": "F6153zYqxrVR",
        "colab_type": "text"
      },
      "cell_type": "markdown",
      "source": [
        "# Python & Blockchain \n",
        "\n",
        "#### (Module 1)\n",
        "\n",
        "##### _The code in this notebook is from the __Learn Python by Building a Blockchain & Cryptocurrency__ Udemy Course by Academind._\n",
        "\n",
        "This script creates a blockchain (or list). Initialize the first block with the number 1. To add a new block to the initial (__Genesis__) block, we use the Python append function. In this example, the transaction amounts are fixed. We will correct that shortly, with variables. Enjoy!"
      ]
    },
    {
      "metadata": {
        "id": "cgIuG3rXxrVW",
        "colab_type": "code",
        "outputId": "2567db0f-c6ca-4034-c8b0-4bee8130f2a5",
        "colab": {
          "base_uri": "https://localhost:8080/",
          "height": 71
        }
      },
      "cell_type": "code",
      "source": [
        "blockchain = [[1]]\n",
        "\n",
        "def add_value():\n",
        "    blockchain.append([blockchain[-1], 5.3])\n",
        "    print(blockchain)\n",
        "    \n",
        "add_value()\n",
        "add_value()\n",
        "add_value()"
      ],
      "execution_count": 1,
      "outputs": [
        {
          "output_type": "stream",
          "text": [
            "[[1], [[1], 5.3]]\n",
            "[[1], [[1], 5.3], [[[1], 5.3], 5.3]]\n",
            "[[1], [[1], 5.3], [[[1], 5.3], 5.3], [[[[1], 5.3], 5.3], 5.3]]\n"
          ],
          "name": "stdout"
        }
      ]
    },
    {
      "metadata": {
        "id": "5MGMdwWgxrVp",
        "colab_type": "text"
      },
      "cell_type": "markdown",
      "source": [
        "#### Adding Arguments to functions"
      ]
    },
    {
      "metadata": {
        "id": "ELTF-0xoxrVr",
        "colab_type": "code",
        "outputId": "2bb35749-bc73-4d88-bf84-36ad87d428c3",
        "colab": {}
      },
      "cell_type": "code",
      "source": [
        "blockchain = [[1]]\n",
        "\n",
        "def add_value(transaction_amount):\n",
        "    blockchain.append([blockchain[-1], transaction_amount])\n",
        "    print(blockchain)\n",
        "    \n",
        "add_value(100)\n",
        "add_value(500.34)\n",
        "add_value(293.45)"
      ],
      "execution_count": 0,
      "outputs": [
        {
          "output_type": "stream",
          "text": [
            "[[1], [[1], 100]]\n",
            "[[1], [[1], 100], [[[1], 100], 500.34]]\n",
            "[[1], [[1], 100], [[[1], 100], 500.34], [[[[1], 100], 500.34], 293.45]]\n"
          ],
          "name": "stdout"
        }
      ]
    },
    {
      "metadata": {
        "id": "4sntBeaMxrV4",
        "colab_type": "text"
      },
      "cell_type": "markdown",
      "source": [
        "#### Understanding the RETURN Keyword"
      ]
    },
    {
      "metadata": {
        "id": "gCDmzMsyxrV8",
        "colab_type": "code",
        "outputId": "dcabe331-dea0-4780-fcca-1ec65d2bdab2",
        "colab": {
          "base_uri": "https://localhost:8080/",
          "height": 35
        }
      },
      "cell_type": "code",
      "source": [
        "blockchain = [(1)]\n",
        "\n",
        "def get_last_blockchain_value():\n",
        "    return blockchain[-1]\n",
        "\n",
        "\n",
        "def add_value(transaction_amount):\n",
        "    blockchain.append([get_last_blockchain_value(), transaction_amount])\n",
        "    \n",
        "add_value(2)\n",
        "add_value(0.9)\n",
        "add_value(10.89)\n",
        "\n",
        "print(blockchain)\n",
        "    "
      ],
      "execution_count": 2,
      "outputs": [
        {
          "output_type": "stream",
          "text": [
            "[1, [1, 2], [[1, 2], 0.9], [[[1, 2], 0.9], 10.89]]\n"
          ],
          "name": "stdout"
        }
      ]
    },
    {
      "metadata": {
        "id": "sVGISIOPxrWI",
        "colab_type": "text"
      },
      "cell_type": "markdown",
      "source": [
        "#### Using Default Arguments"
      ]
    },
    {
      "metadata": {
        "id": "nnFEO1SRxrWL",
        "colab_type": "code",
        "outputId": "8d5a62f9-fdd7-44a3-e00f-e81a8cdbbd34",
        "colab": {
          "base_uri": "https://localhost:8080/",
          "height": 35
        }
      },
      "cell_type": "code",
      "source": [
        "blockchain = []\n",
        "\n",
        "def get_last_blockchain_value():\n",
        "    return blockchain[-1]\n",
        "\n",
        "\n",
        "def add_value(transaction_amount, last_transaction=[1]):\n",
        "    blockchain.append([last_transaction, transaction_amount])\n",
        "    \n",
        "    \n",
        "add_value(2)\n",
        "add_value(0.9, get_last_blockchain_value())\n",
        "add_value(10.89, get_last_blockchain_value())\n",
        "\n",
        "print(blockchain)"
      ],
      "execution_count": 3,
      "outputs": [
        {
          "output_type": "stream",
          "text": [
            "[[[1], 2], [[[1], 2], 0.9], [[[[1], 2], 0.9], 10.89]]\n"
          ],
          "name": "stdout"
        }
      ]
    },
    {
      "metadata": {
        "id": "TOibPdQWxrWY",
        "colab_type": "text"
      },
      "cell_type": "markdown",
      "source": [
        "#### Working with Keyword Arguements\n",
        "\n",
        "This is a summary of what you have learned so far. The following shows the line number of the code showing that topic.\n",
        "\n",
        "* Line 3, 7 - How to define a function\n",
        "* Line 7 - Arguements can be passed to a function\n",
        "* Line 4 - Functions can return a value\n",
        "* Line 7 - Functions can have default values\n",
        "* Line 12 - Functions can use keyword arguments\n"
      ]
    },
    {
      "metadata": {
        "id": "NiCjPtm5xrWe",
        "colab_type": "code",
        "outputId": "b27ab662-adf5-48ea-9185-f3dc9914a0e1",
        "colab": {}
      },
      "cell_type": "code",
      "source": [
        "blockchain = []\n",
        "\n",
        "def get_last_blockchain_value():\n",
        "    return blockchain[-1]\n",
        "\n",
        "\n",
        "def add_value(transaction_amount, last_transaction=[1]):\n",
        "    blockchain.append([last_transaction, transaction_amount])\n",
        "    \n",
        "    \n",
        "add_value(2)\n",
        "add_value(last_transaction=get_last_blockchain_value(), transaction_amount=0.9)\n",
        "add_value(10.89, get_last_blockchain_value())\n",
        "\n",
        "print(blockchain)"
      ],
      "execution_count": 0,
      "outputs": [
        {
          "output_type": "stream",
          "text": [
            "[[[1], 2], [[[1], 2], 0.9], [[[[1], 2], 0.9], 10.89]]\n"
          ],
          "name": "stdout"
        }
      ]
    },
    {
      "metadata": {
        "id": "31q1QGLjxrWu",
        "colab_type": "text"
      },
      "cell_type": "markdown",
      "source": [
        "#### Using the Python Input Function\n",
        "\n",
        "Here we allow the user to enter the value of the transactions.\n",
        "There are 3 transactions, so our blockchain has 3 blocks."
      ]
    },
    {
      "metadata": {
        "id": "nAkG24_AxrWx",
        "colab_type": "code",
        "outputId": "f820126c-5c45-4395-f847-4461b00d7e85",
        "colab": {}
      },
      "cell_type": "code",
      "source": [
        "blockchain = []\n",
        "\n",
        "def get_last_blockchain_value():\n",
        "    return blockchain[-1]\n",
        "\n",
        "\n",
        "def add_value(transaction_amount, last_transaction=[1]):\n",
        "    blockchain.append([last_transaction, transaction_amount])\n",
        "    \n",
        "tx_amount=float(input('Your Transaction amount please'))   \n",
        "add_value(tx_amount)\n",
        "\n",
        "tx_amount=float(input('Your Transaction amount please'))   \n",
        "add_value(last_transaction=get_last_blockchain_value(), transaction_amount=tx_amount)\n",
        "\n",
        "tx_amount=float(input('Your Transaction amount please'))   \n",
        "add_value(tx_amount, get_last_blockchain_value())\n",
        "\n",
        "print(blockchain)"
      ],
      "execution_count": 0,
      "outputs": [
        {
          "output_type": "stream",
          "text": [
            "Your Transaction amount please 100\n",
            "Your Transaction amount please 150\n",
            "Your Transaction amount please 200\n"
          ],
          "name": "stdin"
        },
        {
          "output_type": "stream",
          "text": [
            "[[[1], 100.0], [[[1], 100.0], 150.0], [[[[1], 100.0], 150.0], 200.0]]\n"
          ],
          "name": "stdout"
        }
      ]
    },
    {
      "metadata": {
        "id": "cpG30DyPxrXE",
        "colab_type": "text"
      },
      "cell_type": "markdown",
      "source": [
        "#### Avoiding Repetitive Code Execution\n",
        "\n",
        "Create a new function to input the user data. Call this function to ask the user for each new value. This code asks the user for a new value 3 times, and then prints the blockchain."
      ]
    },
    {
      "metadata": {
        "id": "EemmaPnNxrXJ",
        "colab_type": "code",
        "outputId": "c2dad786-240e-49ab-bd4d-287cb09d704f",
        "colab": {}
      },
      "cell_type": "code",
      "source": [
        "blockchain = []\n",
        "\n",
        "def get_last_blockchain_value():\n",
        "    return blockchain[-1]\n",
        "\n",
        "\n",
        "def add_value(transaction_amount, last_transaction=[1]):\n",
        "    blockchain.append([last_transaction, transaction_amount])\n",
        "    \n",
        "    \n",
        "def get_user_input():\n",
        "    return float(input('Your transaction amount please: '))\n",
        "    \n",
        "tx_amount=get_user_input()\n",
        "add_value(tx_amount)\n",
        "\n",
        "tx_amount=get_user_input() \n",
        "add_value(last_transaction=get_last_blockchain_value(), transaction_amount=tx_amount)\n",
        "\n",
        "tx_amount=get_user_input()\n",
        "add_value(tx_amount, get_last_blockchain_value())\n",
        "\n",
        "print(blockchain)"
      ],
      "execution_count": 0,
      "outputs": [
        {
          "output_type": "stream",
          "text": [
            "Your transaction amount please:  569.32\n",
            "Your transaction amount please:  478.11\n",
            "Your transaction amount please:  621.35\n"
          ],
          "name": "stdin"
        },
        {
          "output_type": "stream",
          "text": [
            "[[[1], 569.32], [[[1], 569.32], 478.11], [[[[1], 569.32], 478.11], 621.35]]\n"
          ],
          "name": "stdout"
        }
      ]
    },
    {
      "metadata": {
        "id": "DmXW3AqQxrXZ",
        "colab_type": "text"
      },
      "cell_type": "markdown",
      "source": [
        "#### Adding Comments and DocStrings"
      ]
    },
    {
      "metadata": {
        "id": "ztq7fycCxrXc",
        "colab_type": "code",
        "outputId": "d1f7dfcf-2620-43a9-a5f9-381723abeff8",
        "colab": {}
      },
      "cell_type": "code",
      "source": [
        "# Initialize blockchain list\n",
        "blockchain = []\n",
        "\n",
        "def get_last_blockchain_value():\n",
        "    \"\"\"Return the last value of the current blockchain\"\"\"\n",
        "    return blockchain[-1]\n",
        "\n",
        "\n",
        "def add_value(transaction_amount, last_transaction=[1]):\n",
        "    \"\"\"Append a new value as well as the last blockchain value to the blockchain\n",
        "    \n",
        "    Arguements:\n",
        "        :transaction_amount: The amount that should be added.\n",
        "        :last_transaction: The last blockchain transaction (default [1])\n",
        "    \"\"\"\n",
        "    \n",
        "    blockchain.append([last_transaction, transaction_amount])\n",
        "    \n",
        "    \n",
        "def get_user_input():\n",
        "    \"\"\"Returns the input of the user (a new transaction amount) as a float\"\"\"\n",
        "    return float(input('Your transaction amount please: '))\n",
        "    \n",
        "\"\"\"Get user input into the tx_amount variable. Finally, add the new value to the blockchain\"\"\"\n",
        "tx_amount=get_user_input()\n",
        "add_value(tx_amount)\n",
        "\n",
        "\"\"\"Get user input into the tx_amount variable. Finally, add the new value to the blockchain\"\"\"\n",
        "tx_amount=get_user_input() \n",
        "add_value(last_transaction=get_last_blockchain_value(), transaction_amount=tx_amount)\n",
        "\n",
        "\"\"\"Get user input into the tx_amount variable. Finally, add the new value to the blockchain\"\"\"\n",
        "tx_amount=get_user_input()\n",
        "add_value(tx_amount, get_last_blockchain_value())\n",
        "\n",
        "print(blockchain)"
      ],
      "execution_count": 0,
      "outputs": [
        {
          "output_type": "stream",
          "text": [
            "Your transaction amount please:  23.12\n",
            "Your transaction amount please:  65.35\n",
            "Your transaction amount please:  9.63\n"
          ],
          "name": "stdin"
        },
        {
          "output_type": "stream",
          "text": [
            "[[[1], 23.12], [[[1], 23.12], 65.35], [[[[1], 23.12], 65.35], 9.63]]\n"
          ],
          "name": "stdout"
        }
      ]
    },
    {
      "metadata": {
        "id": "LdZR_vxyxrXm",
        "colab_type": "text"
      },
      "cell_type": "markdown",
      "source": [
        "#### Structuring Multi Line Code in Python\n",
        "\n",
        "Lines 30 and 35 show examples of multi line Python code. Notice how the variables that are in the multi line statement line up. Multi line coding is donw after the comma. The editor will take care of spacing."
      ]
    },
    {
      "metadata": {
        "id": "5JqLBfrnxrXp",
        "colab_type": "code",
        "outputId": "019ff0dd-8134-4f21-ae3d-a40706270764",
        "colab": {}
      },
      "cell_type": "code",
      "source": [
        "# Initialize blockchain list\n",
        "blockchain = []\n",
        "\n",
        "def get_last_blockchain_value():\n",
        "    \"\"\"Return the last value of the current blockchain\"\"\"\n",
        "    return blockchain[-1]\n",
        "\n",
        "\n",
        "def add_value(transaction_amount, last_transaction=[1]):\n",
        "    \"\"\"Append a new value as well as the last blockchain value to the blockchain\n",
        "    \n",
        "    Arguements:\n",
        "        :transaction_amount: The amount that should be added.\n",
        "        :last_transaction: The last blockchain transaction (default [1])\n",
        "    \"\"\"\n",
        "    \n",
        "    blockchain.append([last_transaction, transaction_amount])\n",
        "    \n",
        "    \n",
        "def get_user_input():\n",
        "    \"\"\"Returns the input of the user (a new transaction amount) as a float\"\"\"\n",
        "    return float(input('Your transaction amount please: '))\n",
        "    \n",
        "\"\"\"Get user input into the tx_amount variable. Finally, add the new value to the blockchain\"\"\"\n",
        "tx_amount=get_user_input()\n",
        "add_value(tx_amount)\n",
        "\n",
        "\"\"\"Get user input into the tx_amount variable. Finally, add the new value to the blockchain\"\"\"\n",
        "tx_amount=get_user_input() \n",
        "add_value(last_transaction=get_last_blockchain_value(), \n",
        "          transaction_amount=tx_amount)\n",
        "\n",
        "\"\"\"Get user input into the tx_amount variable. Finally, add the new value to the blockchain\"\"\"\n",
        "tx_amount=get_user_input()\n",
        "add_value(tx_amount, \n",
        "          get_last_blockchain_value())\n",
        "\n",
        "print(blockchain)"
      ],
      "execution_count": 0,
      "outputs": [
        {
          "output_type": "stream",
          "text": [
            "Your transaction amount please:  22.31\n",
            "Your transaction amount please:  12.5\n",
            "Your transaction amount please:  5.09\n"
          ],
          "name": "stdin"
        },
        {
          "output_type": "stream",
          "text": [
            "[[[1], 22.31], [[[1], 22.31], 12.5], [[[[1], 22.31], 12.5], 5.09]]\n"
          ],
          "name": "stdout"
        }
      ]
    },
    {
      "metadata": {
        "id": "ME93FaKVxrX2",
        "colab_type": "text"
      },
      "cell_type": "markdown",
      "source": [
        "#### Finished Code - Module 1"
      ]
    },
    {
      "metadata": {
        "id": "hIGvxMHmxrX4",
        "colab_type": "code",
        "outputId": "f4edc298-ab15-4590-ff78-d3b5230208c9",
        "colab": {}
      },
      "cell_type": "code",
      "source": [
        "# Initializing our (empty) blockchain list\n",
        "blockchain = []\n",
        "\n",
        "\n",
        "def get_last_blockchain_value():\n",
        "    \"\"\" Returns the last value of the current blockchain. \"\"\"\n",
        "    return blockchain[-1]\n",
        "\n",
        "# This function accepts two arguments.\n",
        "# One required one (transaction_amount) and one optional one (last_transaction)\n",
        "# The optional one is optional because it has a default value => [1]\n",
        "def add_value(transaction_amount, last_transaction=[1]):\n",
        "    \"\"\" Append a new value as well as the last blockchain value to the blockchain.\n",
        "    \n",
        "    Arguments:\n",
        "        :transaction_amount: The amount that should be added.\n",
        "        :last_transaction: The last blockchain transaction (default [1]).\n",
        "    \"\"\"\n",
        "    blockchain.append([last_transaction, transaction_amount])\n",
        "\n",
        "\n",
        "def get_user_input():\n",
        "    \"\"\" Returns the input of the user (a new transaction amount) as a float. \"\"\"\n",
        "    # Get the user input, transform it from a string to a float and store it in user_input\n",
        "    user_input = float(input('Your transaction amount please: '))\n",
        "    return user_input\n",
        "\n",
        "# Get the first transaction input and add the value to the blockchain\n",
        "tx_amount = get_user_input()\n",
        "add_value(tx_amount)\n",
        "\n",
        "# Get the second transaction input and add the value to the blockchain\n",
        "tx_amount = get_user_input()\n",
        "add_value(last_transaction=get_last_blockchain_value(), transaction_amount=tx_amount)\n",
        "\n",
        "# Get the third transaction input and add the value to the blockchain\n",
        "tx_amount = get_user_input()\n",
        "add_value(tx_amount, get_last_blockchain_value())\n",
        "\n",
        "# Output the blockchain list to the console\n",
        "print(blockchain)\n"
      ],
      "execution_count": 0,
      "outputs": [
        {
          "output_type": "stream",
          "text": [
            "Your transaction amount please:  12.31\n",
            "Your transaction amount please:  5.6\n",
            "Your transaction amount please:  33.5\n"
          ],
          "name": "stdin"
        },
        {
          "output_type": "stream",
          "text": [
            "[[[1], 12.31], [[[1], 12.31], 5.6], [[[[1], 12.31], 5.6], 33.5]]\n"
          ],
          "name": "stdout"
        }
      ]
    },
    {
      "metadata": {
        "id": "l99cLhbSxrYE",
        "colab_type": "code",
        "colab": {}
      },
      "cell_type": "code",
      "source": [
        ""
      ],
      "execution_count": 0,
      "outputs": []
    }
  ]
}